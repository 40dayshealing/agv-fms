{
 "cells": [
  {
   "cell_type": "code",
   "execution_count": null,
   "metadata": {},
   "outputs": [],
   "source": [
    "import csv\n",
    "import matplotlib.pyplot as plt\n",
    "import pandas as pd\n",
    "from statistics import mean\n",
    "import numpy as np\n",
    "from matplotlib.pyplot import figure\n",
    "import os\n",
    "\n",
    "dataResult = {}"
   ]
  },
  {
   "cell_type": "code",
   "execution_count": null,
   "metadata": {},
   "outputs": [],
   "source": [
    "df = pd.read_csv(os.getcwd()+\"\\\\result\\\\taskLog.csv\")\n",
    "print(df)"
   ]
  },
  {
   "cell_type": "code",
   "execution_count": null,
   "metadata": {},
   "outputs": [],
   "source": [
    "# task time anaylsis\n",
    "totalTaskTime = []\n",
    "idleTaskTime = []\n",
    "pickupProcessTime = []\n",
    "transferProcessTime = []\n",
    "\n",
    "for ind in df.index:\n",
    "    totalTaskTime.append(df['completeTime'][ind] - df['initTime'][ind])\n",
    "    idleTaskTime.append(df['assignTime'][ind] - df['initTime'][ind])\n",
    "    pickupProcessTime.append(df['pickupTime'][ind] - df['assignTime'][ind])\n",
    "    transferProcessTime.append(df['completeTime'][ind] - df['pickupTime'][ind])\n",
    "\n",
    "df['totalTaskTime'] = totalTaskTime\n",
    "df['idleTaskTime'] = idleTaskTime\n",
    "df['pickupProcessTime'] = pickupProcessTime\n",
    "df['transferProcessTime'] = transferProcessTime\n",
    "\n",
    "dataResult['AverageTaskTime'] = round(mean(totalTaskTime), 2)\n",
    "dataResult['MaxTaskTime'] = round(max(totalTaskTime), 2)\n",
    "dataResult['MinTaskTime'] = round(min(totalTaskTime), 2)\n",
    "\n",
    "dataResult['AverageIdleTime'] = round(mean(idleTaskTime), 2)\n",
    "dataResult['MaxIdleTime'] = round(max(idleTaskTime), 2)\n",
    "dataResult['MinIdleTime'] = round(min(idleTaskTime), 2)\n",
    "\n",
    "dataResult['AveragePickupProcessTime'] = round(mean(pickupProcessTime), 2)\n",
    "dataResult['MaxPickupProcessTime'] = round(max(pickupProcessTime), 2)\n",
    "dataResult['MinPickupProcessTime'] = round(min(pickupProcessTime), 2)\n",
    "\n",
    "dataResult['AverageTransferProcessTime'] = round(mean(transferProcessTime), 2)\n",
    "dataResult['MaxTransferProcessTime'] = round(max(transferProcessTime), 2)\n",
    "dataResult['MinTransferProcessTime'] = round(min(transferProcessTime), 2)\n"
   ]
  },
  {
   "cell_type": "code",
   "execution_count": null,
   "metadata": {},
   "outputs": [],
   "source": [
    "# AGV use time\n",
    "agv = df['agv'].to_numpy()\n",
    "agv, counts = np.unique(agv, return_counts = True)\n",
    "\n",
    "\n",
    "dataResult['AverageAGVTasksHandled'] = round(mean(counts), 1)\n",
    "dataResult['MaxAGVTasksHandled'] = max(counts)\n",
    "dataResult['AGVIDofMaxTasksHandled'] = agv[np.argwhere(counts == np.amax(counts)).flatten()].tolist()\n",
    "dataResult['AGVIDofMinTasksHandled'] = agv[np.argwhere(counts == np.amin(counts)).flatten()].tolist()"
   ]
  },
  {
   "cell_type": "code",
   "execution_count": null,
   "metadata": {},
   "outputs": [],
   "source": [
    "# AGV plotting\n",
    "fig, ax = plt.subplots()\n",
    "fig.set_size_inches(20, 10, forward=True)\n",
    "ax.bar(x=agv, height=counts,width=0.5)\n",
    "plt.title('Number of Tasks Handled by AGVs')\n",
    "plt.ylabel('Number of Tasks')\n",
    "plt.xlabel('AGV ID')"
   ]
  },
  {
   "cell_type": "code",
   "execution_count": null,
   "metadata": {},
   "outputs": [],
   "source": [
    "sorted = df.sort_values(by=['id'])\n",
    "sorted = sorted.reset_index(drop=True)\n",
    "\n",
    "for ind in sorted.index:\n",
    "    totalTime = sorted['idleTaskTime'][ind]+sorted['pickupProcessTime'][ind]+sorted['transferProcessTime'][ind]\n",
    "    print(ind, totalTime, sorted['totalTaskTime'][ind])\n",
    "    if ind > 20:\n",
    "        break"
   ]
  },
  {
   "cell_type": "code",
   "execution_count": null,
   "metadata": {},
   "outputs": [],
   "source": [
    "# task time plotting\n",
    "fig, ax = plt.subplots()\n",
    "fig.set_size_inches(20, 10, forward=True)\n",
    "ax.bar(x=sorted['id'].tolist()[:50], height=sorted['idleTaskTime'].tolist()[:50],width=0.5, color='r')\n",
    "ax.bar(x=sorted['id'].tolist()[:50], height=sorted['pickupProcessTime'].tolist()[:50],width=0.5,bottom=sorted['idleTaskTime'].tolist()[:50], color='b')\n",
    "tmp = np.array(sorted['idleTaskTime'].tolist()[:50]) + np.array(sorted['pickupProcessTime'].tolist()[:50])\n",
    "ax.bar(x=sorted['id'].tolist()[:50], height=sorted['transferProcessTime'].tolist()[:50],width=0.5, bottom=tmp,color='g')\n",
    "ax.legend([\"idleTaskTime\", \"pickupProcessTime\", \"transferProcessTime\"])"
   ]
  },
  {
   "cell_type": "code",
   "execution_count": null,
   "metadata": {},
   "outputs": [],
   "source": []
  },
  {
   "cell_type": "code",
   "execution_count": null,
   "metadata": {},
   "outputs": [],
   "source": [
    "dataResult"
   ]
  },
  {
   "cell_type": "code",
   "execution_count": null,
   "metadata": {},
   "outputs": [],
   "source": []
  }
 ],
 "metadata": {
  "kernelspec": {
   "display_name": "Python 3 (ipykernel)",
   "language": "python",
   "name": "python3"
  },
  "language_info": {
   "codemirror_mode": {
    "name": "ipython",
    "version": 3
   },
   "file_extension": ".py",
   "mimetype": "text/x-python",
   "name": "python",
   "nbconvert_exporter": "python",
   "pygments_lexer": "ipython3",
   "version": "3.9.12"
  },
  "vscode": {
   "interpreter": {
    "hash": "933dbcd33d711af3e6fad50bdb19f28801bd6a1bce0f480060b8f90489111391"
   }
  }
 },
 "nbformat": 4,
 "nbformat_minor": 2
}
